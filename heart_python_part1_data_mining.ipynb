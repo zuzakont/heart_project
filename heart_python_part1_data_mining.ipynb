{
 "cells": [
  {
   "cell_type": "code",
   "execution_count": 1,
   "id": "947012fc",
   "metadata": {},
   "outputs": [
    {
     "data": {
      "text/plain": [
       "'\\nProjekt: Czynniki wplywajace na wystepowanie choroby serca\\n\\nAutor: Zuzanna Kontna\\n\\nStudia Podyplomowe: Data Scientist. Analityk danych\\nUniwersytet WSB Merito Gdańsk\\nkwiecien, 2023\\n'"
      ]
     },
     "execution_count": 1,
     "metadata": {},
     "output_type": "execute_result"
    }
   ],
   "source": [
    "\"\"\"\n",
    "Projekt: Czynniki wplywajace na wystepowanie choroby serca\n",
    "\n",
    "Autor: Zuzanna Kontna\n",
    "\n",
    "Studia Podyplomowe: Data Scientist. Analityk danych\n",
    "Uniwersytet WSB Merito Gdańsk\n",
    "kwiecien, 2023\n",
    "\"\"\""
   ]
  },
  {
   "cell_type": "code",
   "execution_count": 2,
   "id": "fbbf6aff",
   "metadata": {},
   "outputs": [],
   "source": [
    "# import bibliotek\n",
    "import pandas as pd\n",
    "import numpy as np\n",
    "import os\n",
    "import matplotlib.pyplot as plt\n",
    "import plotly.express as px\n",
    "from plotly.subplots import make_subplots\n",
    "import plotly.graph_objects as go\n",
    "import seaborn as sns\n",
    "import plotly.io as pio"
   ]
  },
  {
   "cell_type": "code",
   "execution_count": 3,
   "id": "6e1a8cd2",
   "metadata": {},
   "outputs": [],
   "source": [
    "# otwieranie wykresow z plotly w przegladarce\n",
    "pio.renderers.default='browser'"
   ]
  },
  {
   "cell_type": "code",
   "execution_count": 4,
   "id": "4e29bc1c",
   "metadata": {},
   "outputs": [],
   "source": [
    "# zrodlo danych: https://www.kaggle.com/datasets/sulianova/cardiovascular-disease-dataset\n",
    "\n",
    "# definicje poszczegolnych kolumn:\n",
    "    # ID: unikatowe id obserwacji\n",
    "    # Age: wiek pacjenta (wyrazony w dniach)\n",
    "    # Gender: plec pacjenta (1 - kobieta, 2 - mezczyzna)\n",
    "    # Height: wzrost pacjenta (w cm)\n",
    "    # Weight: masa pacjenta (w kg)\n",
    "    # Ap_hi: skurczowe cisnienie krwi\n",
    "    # Ap_lo: rozkurczowe cisnienie krwi\n",
    "    # Cholesterol: cholesterol (1 - w normie, 2 - powyzej normy, 3 - znacznie powyzej normy)\n",
    "    # Glucose: glukoza (1 - w normie, 2 - powyzej normy, 3 - znacznie powyzej normy)\n",
    "    # Smoke: oznaczenie, czy pacjent pali papierosy (0 - nie pali, 1 -pali)\n",
    "    # Alco: oznaczenie, czy pacjent pije alkohol (0 - nie pije, 1 - pije)\n",
    "    # Active: oznaczenie, czy pacjent jest aktywny fizycznie (0 - nie jest, 1 - jest)\n",
    "    # Cardio: wystepowanie choroby serca (0 - nie wystepuje, 1 - wystepuje)"
   ]
  },
  {
   "cell_type": "code",
   "execution_count": 5,
   "id": "d4b467b0",
   "metadata": {},
   "outputs": [],
   "source": [
    "# ustawienie katalogu roboczego\n",
    "os.chdir('C:\\\\Users\\\\zuza2\\\\OneDrive\\\\Pulpit\\\\podyplomowka\\\\projekt')"
   ]
  },
  {
   "cell_type": "code",
   "execution_count": 6,
   "id": "463b09a3",
   "metadata": {},
   "outputs": [],
   "source": [
    "# import danych pliku\n",
    "cardio = pd.read_csv('cardio.csv', sep = ';')"
   ]
  },
  {
   "cell_type": "code",
   "execution_count": 7,
   "id": "73103827",
   "metadata": {},
   "outputs": [
    {
     "name": "stdout",
     "output_type": "stream",
     "text": [
      "   id    age  gender  height  weight  ap_hi  ap_lo  cholesterol  gluc  smoke  \\\n",
      "0   0  18393       2     168    62.0    110     80            1     1      0   \n",
      "1   1  20228       1     156    85.0    140     90            3     1      0   \n",
      "2   2  18857       1     165    64.0    130     70            3     1      0   \n",
      "3   3  17623       2     169    82.0    150    100            1     1      0   \n",
      "4   4  17474       1     156    56.0    100     60            1     1      0   \n",
      "5   8  21914       1     151    67.0    120     80            2     2      0   \n",
      "6   9  22113       1     157    93.0    130     80            3     1      0   \n",
      "7  12  22584       2     178    95.0    130     90            3     3      0   \n",
      "8  13  17668       1     158    71.0    110     70            1     1      0   \n",
      "9  14  19834       1     164    68.0    110     60            1     1      0   \n",
      "\n",
      "   alco  active  cardio  \n",
      "0     0       1       0  \n",
      "1     0       1       1  \n",
      "2     0       0       1  \n",
      "3     0       1       1  \n",
      "4     0       0       0  \n",
      "5     0       0       0  \n",
      "6     0       1       0  \n",
      "7     0       1       1  \n",
      "8     0       1       0  \n",
      "9     0       0       0  \n"
     ]
    }
   ],
   "source": [
    "# podglad na pierwszych 10 wierszy \n",
    "cardio_top_10 = cardio.head(10)\n",
    "print(cardio_top_10)"
   ]
  },
  {
   "cell_type": "code",
   "execution_count": 9,
   "id": "5e0162f0",
   "metadata": {},
   "outputs": [],
   "source": [
    "# dodaje nowa kolumne z wiekiem wyrazonym w latach, zaokraglonym w dol, czyli do ukonczonego wieku\n",
    "cardio['age_years'] = cardio['age'].apply(lambda a: a//365)"
   ]
  },
  {
   "cell_type": "code",
   "execution_count": 10,
   "id": "cade52f1",
   "metadata": {},
   "outputs": [
    {
     "name": "stdout",
     "output_type": "stream",
     "text": [
      "<class 'pandas.core.frame.DataFrame'>\n",
      "RangeIndex: 70000 entries, 0 to 69999\n",
      "Data columns (total 14 columns):\n",
      " #   Column       Non-Null Count  Dtype  \n",
      "---  ------       --------------  -----  \n",
      " 0   id           70000 non-null  int64  \n",
      " 1   age          70000 non-null  int64  \n",
      " 2   gender       70000 non-null  int64  \n",
      " 3   height       70000 non-null  int64  \n",
      " 4   weight       70000 non-null  float64\n",
      " 5   ap_hi        70000 non-null  int64  \n",
      " 6   ap_lo        70000 non-null  int64  \n",
      " 7   cholesterol  70000 non-null  int64  \n",
      " 8   gluc         70000 non-null  int64  \n",
      " 9   smoke        70000 non-null  int64  \n",
      " 10  alco         70000 non-null  int64  \n",
      " 11  active       70000 non-null  int64  \n",
      " 12  cardio       70000 non-null  int64  \n",
      " 13  age_years    70000 non-null  int64  \n",
      "dtypes: float64(1), int64(13)\n",
      "memory usage: 7.5 MB\n"
     ]
    }
   ],
   "source": [
    "# podsumowanie kazdej z kolumn\n",
    "cardio_desc = cardio.describe()\n",
    "cardio.info()"
   ]
  },
  {
   "cell_type": "code",
   "execution_count": 11,
   "id": "a77d0448",
   "metadata": {},
   "outputs": [
    {
     "data": {
      "text/plain": [
       "id             0\n",
       "age            0\n",
       "gender         0\n",
       "height         0\n",
       "weight         0\n",
       "ap_hi          0\n",
       "ap_lo          0\n",
       "cholesterol    0\n",
       "gluc           0\n",
       "smoke          0\n",
       "alco           0\n",
       "active         0\n",
       "cardio         0\n",
       "age_years      0\n",
       "dtype: int64"
      ]
     },
     "execution_count": 11,
     "metadata": {},
     "output_type": "execute_result"
    }
   ],
   "source": [
    "# brak nulli\n",
    "cardio.isnull().sum()"
   ]
  },
  {
   "cell_type": "code",
   "execution_count": 12,
   "id": "cfb83b1a",
   "metadata": {},
   "outputs": [],
   "source": [
    "# id nie bedzie mi potrzebne, usuwam je\n",
    "cardio.drop(columns=['id'], inplace=True)\n",
    "cardio = cardio.reset_index(drop = True)"
   ]
  },
  {
   "cell_type": "code",
   "execution_count": 13,
   "id": "f5dc2e47",
   "metadata": {},
   "outputs": [],
   "source": [
    "# ocena poprawnosci danych"
   ]
  },
  {
   "cell_type": "code",
   "execution_count": 14,
   "id": "ca809cf3",
   "metadata": {},
   "outputs": [],
   "source": [
    "# cisnienie\n",
    "# z google: The highest pressure recorded in an individual was 370/360. Zatem usuwam wszystko, co powyżej. Usuwam też cisnienie nizsze od 0.\n",
    "\n",
    "cardio.drop(cardio[cardio['ap_hi'] >= 360].index, inplace = True)\n",
    "cardio.drop(cardio[cardio['ap_hi'] < 0].index, inplace = True)\n",
    "cardio.drop(cardio[cardio['ap_lo'] >= 370].index, inplace = True)\n",
    "cardio.drop(cardio[cardio['ap_lo'] < 0].index, inplace = True)"
   ]
  },
  {
   "cell_type": "code",
   "execution_count": 15,
   "id": "157cc0ec",
   "metadata": {},
   "outputs": [],
   "source": [
    "### wizualizacja danych"
   ]
  },
  {
   "cell_type": "code",
   "execution_count": 16,
   "id": "af7a7617",
   "metadata": {},
   "outputs": [],
   "source": [
    "# cisnienie krwi\n",
    "\n",
    "ap_fig = make_subplots(rows=1, cols=2)\n",
    "\n",
    "ap_fig.add_trace(\n",
    "    go.Box(y = cardio['ap_hi'],\n",
    "           name = 'Ap_hi'\n",
    "               ),\n",
    "    row = 1,\n",
    "    col = 1\n",
    "    )\n",
    "              \n",
    "ap_fig.add_trace(\n",
    "    go.Box(y = cardio['ap_lo'],\n",
    "           name = 'Ap_lo'\n",
    "           ),\n",
    "    row = 1,\n",
    "    col = 2       \n",
    "    )"
   ]
  },
  {
   "cell_type": "code",
   "execution_count": 17,
   "id": "f6b3ecaf",
   "metadata": {},
   "outputs": [],
   "source": [
    "# wzrost i masa\n",
    "\n",
    "# doliczam BMI\n",
    "cardio['BMI'] = cardio['weight']/((cardio['height']/100)*(cardio['height']/100))"
   ]
  },
  {
   "cell_type": "code",
   "execution_count": 18,
   "id": "1c6d6856",
   "metadata": {},
   "outputs": [],
   "source": [
    "# wizualizacja danych\n",
    "\n",
    "dim_fig = make_subplots(rows=1, cols=3)\n",
    "\n",
    "dim_fig.add_trace(\n",
    "    go.Box(y = cardio['weight'],\n",
    "           name = 'Weight'\n",
    "           ),\n",
    "    row = 1,\n",
    "    col = 1\n",
    "    )\n",
    "\n",
    "dim_fig.add_trace(\n",
    "    go.Box(y = cardio['height'],\n",
    "           name = 'Height'\n",
    "           ),\n",
    "    row = 1,\n",
    "    col = 2\n",
    "    )\n",
    "\n",
    "dim_fig.add_trace(\n",
    "    go.Box(y = cardio['BMI'],\n",
    "           name = 'BMI'\n",
    "           ),\n",
    "    row = 1,\n",
    "    col = 3\n",
    "    )"
   ]
  },
  {
   "cell_type": "code",
   "execution_count": 19,
   "id": "c3ad4041",
   "metadata": {},
   "outputs": [],
   "source": [
    "# z google: the lowest reported BMI was only 6.7, odrzucam zatem rekordy z BMI < 6.7\n",
    "cardio.drop(cardio[cardio['BMI'] < 6.7].index, inplace = True)"
   ]
  },
  {
   "cell_type": "code",
   "execution_count": 31,
   "id": "6d1b49f5",
   "metadata": {},
   "outputs": [],
   "source": [
    "# wzrost wyglada podejrzanie, przygladam sie dokladniej\n",
    "\n",
    "height_fig = px.histogram(\n",
    "    data_frame = cardio,\n",
    "    x = 'height',\n",
    "    color = 'gender'\n",
    "    )\n",
    "\n",
    "# zmieniam etykiety danych na wykresie\n",
    "labels = {'1': 'female', '2': 'male'}\n",
    "\n",
    "height_fig.for_each_trace(lambda t: t.update(name = labels[t.name],\n",
    "                                             legendgroup = labels[t.name],\n",
    "                                             hovertemplate = t.hovertemplate.replace(t.name, labels[t.name])\n",
    "                                             )\n",
    "                          )\n",
    "\n",
    "height_fig.show()"
   ]
  },
  {
   "cell_type": "code",
   "execution_count": 21,
   "id": "fca4421e",
   "metadata": {},
   "outputs": [],
   "source": [
    "# mam podejrzenie, ze tutaj rowniez sa nierealne dane, weryfikuje to z wiekiem"
   ]
  },
  {
   "cell_type": "code",
   "execution_count": 22,
   "id": "a772976f",
   "metadata": {},
   "outputs": [],
   "source": [
    "# wiek - wizualizacja danych\n",
    "\n",
    "age_fig = px.histogram(\n",
    "    data_frame = cardio,\n",
    "    x = 'age_years'\n",
    "    )\n",
    "\n",
    "age_fig.show()"
   ]
  },
  {
   "cell_type": "code",
   "execution_count": 23,
   "id": "bb792434",
   "metadata": {},
   "outputs": [],
   "source": [
    "# poniewaz w zbiorze nie ma dzieci, odcinam rekordy, dla ktorych wzrost jest nizszy niz 140 oraz wyzszy niz 220\n",
    "cardio.drop(cardio[cardio['height'] < 140].index, inplace = True)\n",
    "cardio.drop(cardio[cardio['height'] > 220].index, inplace = True)"
   ]
  },
  {
   "cell_type": "code",
   "execution_count": 24,
   "id": "12f9664d",
   "metadata": {},
   "outputs": [],
   "source": [
    "# w tym miejscu koncze usuwanie 'pojejrzanych danych'"
   ]
  },
  {
   "cell_type": "code",
   "execution_count": 25,
   "id": "03482123",
   "metadata": {},
   "outputs": [],
   "source": [
    "# tworze kopie zbioru cardio i zamieniam zmienne kategoryzujace gender, cholesterol, glucose, smoke, alcohol, active, cardio) na opisy\n",
    "\n",
    "cardio_1 = cardio.copy(deep = False)\n",
    "\n",
    "cardio_1['gender'] = cardio_1['gender'].replace(to_replace = [1, 2], value = ['female', 'male'])\n",
    "cardio_1['cholesterol'] = cardio_1['cholesterol'].replace(to_replace = [1, 2, 3], value = ['normal', 'above normal', 'well above normal'])\n",
    "cardio_1['gluc'] = cardio_1['gluc'].replace(to_replace = [1, 2, 3], value = ['normal', 'above normal', 'well above normal'])\n",
    "cardio_1['smoke'] = cardio_1['smoke'].replace(to_replace = [0, 1], value = ['no', 'yes'])\n",
    "cardio_1['alco'] = cardio_1['alco'].replace(to_replace = [0, 1], value = ['no', 'yes'])\n",
    "cardio_1['active'] = cardio_1['active'].replace(to_replace = [0, 1], value = ['no', 'yes'])\n",
    "cardio_1['cardio'] = cardio_1['cardio'].replace(to_replace = [0, 1], value = ['no', 'yes'])"
   ]
  },
  {
   "cell_type": "code",
   "execution_count": 26,
   "id": "c2a5bf76",
   "metadata": {},
   "outputs": [],
   "source": [
    "# wizualizuje zmienne kategoryzujace i czestosc ich wystepowania (juz na oczyszczonym zbiorze): gender, cholesterol, glucose, smoke, alcohol, active\n",
    "vars = ['gender', 'cholesterol', 'gluc', 'smoke', 'alco', 'active']\n",
    "\n",
    "colors = {'no': 'green', 'yes': 'red'}\n",
    "\n",
    "cat_fig = make_subplots(rows = 2, cols = 3, subplot_titles = ('Gender', 'Cholesterol', 'Glucose', 'Smoke', 'Alcohol', 'Active'))\n",
    "\n",
    "for i, var in enumerate(vars):\n",
    "    row = i//3 + 1\n",
    "    col = i % 3 +1\n",
    "    for card in ['no', 'yes']:\n",
    "        trace = go.Histogram(x = cardio_1[cardio_1['cardio'] == card][var],\n",
    "                             name = card,\n",
    "                             marker_color = colors[card],\n",
    "                             opacity = 0.8                             \n",
    "                             )\n",
    "        cat_fig.add_trace(trace, row = row, col = col)\n",
    "\n",
    "cat_fig.update_layout(title = 'Categories by cardiovascular disease')\n",
    "\n",
    "cat_fig.show()"
   ]
  },
  {
   "cell_type": "code",
   "execution_count": 27,
   "id": "5251a0bb",
   "metadata": {},
   "outputs": [],
   "source": [
    "# ostatnia z wizualizacji pomagajacych zapoznac sie ze zbiorem - korelacje pomiedzy zmiennymi (kazda z kazda)\n",
    "heatmap_data = cardio.copy(deep = False)\n",
    "heatmap_data = heatmap_data.filter(['age_years', 'gender', 'height', 'weight', 'BMI', 'ap_hi', 'ap_lo', 'cholesterol', \n",
    "                                    'gluc', 'smoke', 'alco', 'active', 'cardio'])\n",
    "\n",
    "\n",
    "heat_fig = px.imshow(heatmap_data.corr(),\n",
    "                     aspect = 'auto',\n",
    "                     text_auto = True #warosci liczbowe na wykresie\n",
    "                     )\n",
    "heat_fig.show()"
   ]
  },
  {
   "cell_type": "code",
   "execution_count": 27,
   "id": "62537d0b",
   "metadata": {},
   "outputs": [],
   "source": [
    "# eksportuje pliki cardio i cardio_1, aby w R Studio zbudowac do nich modele machine learningowe\n",
    "cardio.to_csv('cardio_exit.csv', index = False)\n",
    "\n",
    "cardio_1.to_csv('cardio_1_exit.csv', index = False)"
   ]
  }
 ],
 "metadata": {
  "kernelspec": {
   "display_name": "Python 3 (ipykernel)",
   "language": "python",
   "name": "python3"
  },
  "language_info": {
   "codemirror_mode": {
    "name": "ipython",
    "version": 3
   },
   "file_extension": ".py",
   "mimetype": "text/x-python",
   "name": "python",
   "nbconvert_exporter": "python",
   "pygments_lexer": "ipython3",
   "version": "3.9.13"
  }
 },
 "nbformat": 4,
 "nbformat_minor": 5
}
